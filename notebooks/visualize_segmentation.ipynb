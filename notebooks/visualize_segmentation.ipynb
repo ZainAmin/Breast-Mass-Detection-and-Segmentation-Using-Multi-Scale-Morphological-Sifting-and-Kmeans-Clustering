{
 "cells": [
  {
   "cell_type": "code",
   "execution_count": 5,
   "metadata": {},
   "outputs": [
    {
     "name": "stdout",
     "output_type": "stream",
     "text": [
      "The autoreload extension is already loaded. To reload it, use:\n",
      "  %reload_ext autoreload\n"
     ]
    }
   ],
   "source": [
    "\n",
    "import sys\n",
    "sys.path.append('..\\\\helpers')\n",
    "\n",
    "import cv2\n",
    "import numpy as np\n",
    "from preprocessing import Preprocessor\n",
    "\n",
    "preprocessor = Preprocessor()\n",
    "\n",
    "\n",
    "# To allow auto reload to this notebook after modifying any external file imported\n",
    "%load_ext autoreload\n",
    "%autoreload 2"
   ]
  },
  {
   "cell_type": "code",
   "execution_count": 2,
   "metadata": {},
   "outputs": [],
   "source": [
    "def upsample(image):\n",
    "    height, width = image.shape[:2]\n",
    "    new_height = int(height * 4)\n",
    "    new_width = int(width * 4)\n",
    "    \n",
    "    return cv2.resize(image.copy(), (new_width, new_height), interpolation=cv2.INTER_CUBIC)\n",
    "\n",
    "def binarize(image):\n",
    "    threshold = 128\n",
    "    _, binarized_image = cv2.threshold(image, threshold, 255, cv2.THRESH_BINARY)\n",
    "    return binarized_image\n",
    "\n",
    "def show_image(labe, image):    \n",
    "    cv2.imshow(labe, cv2.resize(image, (image.shape[1]//3, image.shape[0]//3)))\n",
    "    cv2.waitKey(0)\n",
    "    cv2.destroyAllWindows()\n",
    "\n",
    "def convert_to_8bit(image_16bit):\n",
    "    if not isinstance(image_16bit, np.ndarray) or image_16bit.dtype != np.uint16:\n",
    "        raise ValueError(\"Input must be a 16-bit numpy array\")\n",
    "\n",
    "    # Scale the 16-bit image to the range of 0-255\n",
    "    image_8bit = (image_16bit / np.max(image_16bit) * 255).astype(np.uint8)\n",
    "\n",
    "    return image_8bit\n"
   ]
  },
  {
   "cell_type": "code",
   "execution_count": 42,
   "metadata": {},
   "outputs": [
    {
     "name": "stdout",
     "output_type": "stream",
     "text": [
      "Image saved successfully to: ../report/report_images/visualize_segmentation/22614379_d065adcb9905b973_MG_L_CC_ANON_5.tif\n"
     ]
    }
   ],
   "source": [
    "image_name = '22614379_d065adcb9905b973_MG_L_CC_ANON' # without .tif\n",
    "mms_scale  = 5\n",
    "\n",
    "gt_image   = cv2.imread(f'../dataset/processed/groundtruth/{image_name}.tif', cv2.IMREAD_GRAYSCALE)\n",
    "segm_image = cv2.imread(f'../dataset/output/segmentation/{image_name}_{mms_scale}.tif', cv2.IMREAD_GRAYSCALE)\n",
    "raw_image  = cv2.imread(f'../dataset/processed/cropped_raw/{image_name}.tif', cv2.IMREAD_UNCHANGED)\n",
    "\n",
    "gt_image   = binarize(upsample(gt_image))\n",
    "segm_image = binarize(upsample(segm_image))\n",
    "\n",
    "raw_image  = convert_to_8bit(raw_image)\n",
    "raw_image  = cv2.cvtColor(raw_image, cv2.COLOR_GRAY2BGR)\n",
    "\n",
    "# get the contours for both gt and seg\n",
    "gt_contours, _  = cv2.findContours(gt_image, cv2.RETR_EXTERNAL, cv2.CHAIN_APPROX_SIMPLE)\n",
    "seg_contours, _ = cv2.findContours(segm_image, cv2.RETR_EXTERNAL, cv2.CHAIN_APPROX_SIMPLE)\n",
    "\n",
    "# Draw contours on the raw image\n",
    "color_gt   = (0, 0, 0)   # black for gt\n",
    "color_seg  = (0, 0, 255) # red for seg\n",
    "cv2.drawContours(raw_image, gt_contours, -1, color_gt, thickness=4)\n",
    "cv2.drawContours(raw_image, seg_contours, -1, color_seg, thickness=4)\n",
    "\n",
    "\n",
    "# Display DICE score for the segmentation\n",
    "for gt_cnt in gt_contours:\n",
    "    max_dice = 0\n",
    "\n",
    "    gt_candidate = np.zeros_like(gt_image)\n",
    "    cv2.drawContours(gt_candidate, [gt_cnt], 0, (255, 255, 255), cv2.FILLED)                \n",
    "\n",
    "    for seg_cnt in seg_contours:        \n",
    "        mask_candidate = np.zeros_like(segm_image)\n",
    "        cv2.drawContours(mask_candidate, [seg_cnt], 0, (255, 255, 255), cv2.FILLED)                \n",
    "\n",
    "        intersection = cv2.bitwise_and(mask_candidate, gt_candidate)\n",
    "        union = cv2.bitwise_or(mask_candidate, gt_candidate)\n",
    "\n",
    "        intersection_pixels = cv2.countNonZero(intersection)\n",
    "        union_pixels = cv2.countNonZero(union)\n",
    "\n",
    "        dice_score = (2 * intersection_pixels) / (intersection_pixels + union_pixels)\n",
    "\n",
    "        if dice_score > max_dice:\n",
    "            max_dice = dice_score\n",
    "\n",
    "            x, y, w, h = cv2.boundingRect(seg_cnt) \n",
    "    cv2.putText(raw_image, \"DICE SCORE: \" + str(round(max_dice, 4)), (x, y-30), cv2.FONT_HERSHEY_SIMPLEX, 1, color_seg, 4)\n",
    "\n",
    "\n",
    "# show_image(\"raw_image\", raw_image)\n",
    "\n",
    "preprocessor.save_image(raw_image, '../report/report_images/visualize_segmentation/', f'{image_name}_{mms_scale}.tif')\n",
    "\n",
    "\n",
    "\n"
   ]
  },
  {
   "cell_type": "code",
   "execution_count": null,
   "metadata": {},
   "outputs": [],
   "source": []
  }
 ],
 "metadata": {
  "kernelspec": {
   "display_name": "env",
   "language": "python",
   "name": "python3"
  },
  "language_info": {
   "codemirror_mode": {
    "name": "ipython",
    "version": 3
   },
   "file_extension": ".py",
   "mimetype": "text/x-python",
   "name": "python",
   "nbconvert_exporter": "python",
   "pygments_lexer": "ipython3",
   "version": "3.10.4"
  },
  "orig_nbformat": 4
 },
 "nbformat": 4,
 "nbformat_minor": 2
}
